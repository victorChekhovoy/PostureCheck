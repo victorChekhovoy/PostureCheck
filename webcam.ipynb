{
 "cells": [
  {
   "cell_type": "code",
   "execution_count": 1,
   "metadata": {},
   "outputs": [],
   "source": [
    "import cv2\n",
    "import numpy as np\n",
    "from PIL import Image\n",
    "import copy"
   ]
  },
  {
   "cell_type": "code",
   "execution_count": 4,
   "metadata": {},
   "outputs": [],
   "source": [
    "cap = cv2.VideoCapture(1)\n",
    "count = 0\n",
    "font = cv2.FONT_HERSHEY_SIMPLEX\n",
    "length = 5\n",
    "frames = [None] * length"
   ]
  },
  {
   "cell_type": "code",
   "execution_count": null,
   "metadata": {},
   "outputs": [],
   "source": [
    "while True:\n",
    "    ret, frame = cap.read()\n",
    "    frame = cv2.cvtColor(frame, cv2.COLOR_BGR2GRAY)\n",
    "    cv2.imshow('frame', frame)\n",
    "    key = cv2.waitKey(1)\n",
    "    if key == 27:\n",
    "        break\n",
    "cap.release()\n",
    "cv2.destroyAllWindows()"
   ]
  },
  {
   "cell_type": "code",
   "execution_count": 6,
   "metadata": {
    "scrolled": true
   },
   "outputs": [],
   "source": [
    "while True:\n",
    "    ret, frame = cap.read()\n",
    "    frame = cv2.cvtColor(frame, cv2.COLOR_BGR2GRAY)\n",
    "    frame_np = np.array(frame)\n",
    "    backup = np.zeros(frame.shape)\n",
    "    if count < length:\n",
    "        frames[count] = frame_np\n",
    "    else:\n",
    "        backup = frames[count % length]\n",
    "        frames[count % length] = frame_np\n",
    "    frame_np = frame_np.astype('int32')\n",
    "    backup = backup.astype('int32')\n",
    "    diff = np.abs(frame_np - backup)\n",
    "    diff = diff.astype('uint8')\n",
    "    frame_np = frame_np.astype('uint8')\n",
    "    backup = backup.astype('uint8')\n",
    "    diff[0][0] = 0\n",
    "    diff[0][1] = 255\n",
    "    diff_c = copy.deepcopy(diff)\n",
    "    diff_c[diff_c > 220] = 0.0\n",
    "    cv2.imshow('diff abs', diff)\n",
    "    cv2.imshow('diff abs + filter', diff_c)\n",
    "    cv2.imshow('frame', frame_np)\n",
    "    count += 1\n",
    "    key = cv2.waitKey(1)\n",
    "    if key == 27:\n",
    "        break\n",
    "cap.release()\n",
    "cv2.destroyAllWindows()"
   ]
  },
  {
   "cell_type": "code",
   "execution_count": 5,
   "metadata": {},
   "outputs": [
    {
     "data": {
      "text/plain": [
       "(480, 640)"
      ]
     },
     "execution_count": 5,
     "metadata": {},
     "output_type": "execute_result"
    }
   ],
   "source": [
    "diff.shape"
   ]
  },
  {
   "cell_type": "code",
   "execution_count": null,
   "metadata": {},
   "outputs": [],
   "source": [
    "cv2.imshow('1', diff[150:200, 150:200])\n",
    "cv2.imshow('2', diff_c)\n",
    "cv2.imshow('3', frame_np)\n",
    "cv2.waitKey(0)\n",
    "cv2.destroyAllWindows()\n",
    "print (np.average(diff))"
   ]
  },
  {
   "cell_type": "code",
   "execution_count": null,
   "metadata": {},
   "outputs": [],
   "source": []
  },
  {
   "cell_type": "code",
   "execution_count": null,
   "metadata": {},
   "outputs": [],
   "source": [
    "backup_cutout = backup[150:200, 150:200]\n",
    "frame_np_cutout = frame_np[150:200, 150:200]\n",
    "diff_cutout = diff[150:200, 150:200]\n",
    "#print (diff_cutout.dtype)\n",
    "print (diff_cutout)\n",
    "print ('\\n')\n",
    "print (backup_cutout)\n",
    "print ('\\n')\n",
    "print(frame_np_cutout)\n",
    "print ('\\n')\n",
    "print (frame_np_cutout - backup_cutout)"
   ]
  },
  {
   "cell_type": "code",
   "execution_count": null,
   "metadata": {},
   "outputs": [],
   "source": [
    "while True:\n",
    "    ret, frame = cap.read()\n",
    "    a = np.array(frame)\n",
    "    b = np.average(a)\n",
    "    print (a.shape)\n",
    "    cv2.imshow('frame', frame)\n",
    "    key = cv2.waitKey(1)\n",
    "    if key == 27:\n",
    "        break\n",
    "cap.release()\n",
    "cv2.destroyAllWindows()"
   ]
  },
  {
   "cell_type": "code",
   "execution_count": null,
   "metadata": {},
   "outputs": [],
   "source": []
  }
 ],
 "metadata": {
  "kernelspec": {
   "display_name": "Python 3",
   "language": "python",
   "name": "python3"
  },
  "language_info": {
   "codemirror_mode": {
    "name": "ipython",
    "version": 3
   },
   "file_extension": ".py",
   "mimetype": "text/x-python",
   "name": "python",
   "nbconvert_exporter": "python",
   "pygments_lexer": "ipython3",
   "version": "3.7.3"
  }
 },
 "nbformat": 4,
 "nbformat_minor": 2
}

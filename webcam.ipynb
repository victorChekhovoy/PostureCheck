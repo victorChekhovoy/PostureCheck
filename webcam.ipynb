{
 "cells": [
  {
   "cell_type": "code",
   "execution_count": 1,
   "metadata": {},
   "outputs": [],
   "source": [
    "import cv2\n",
    "import numpy as np\n",
    "from PIL import Image\n",
    "import copy"
   ]
  },
  {
   "cell_type": "code",
   "execution_count": 2,
   "metadata": {},
   "outputs": [],
   "source": [
    "cap = cv2.VideoCapture(1)\n",
    "count = 0\n",
    "font = cv2.FONT_HERSHEY_SIMPLEX\n",
    "length = 5\n",
    "delay = 10\n",
    "frames = [None] * length\n"
   ]
  },
  {
   "cell_type": "code",
   "execution_count": 3,
   "metadata": {},
   "outputs": [],
   "source": [
    "while True:\n",
    "    ret, frame = cap.read()\n",
    "    frame = cv2.cvtColor(frame, cv2.COLOR_BGR2GRAY)\n",
    "    cv2.imshow('frame', frame)\n",
    "    key = cv2.waitKey(1)\n",
    "    if key == 27:\n",
    "        break\n",
    "cap.release()\n",
    "cv2.destroyAllWindows()"
   ]
  },
  {
   "cell_type": "code",
   "execution_count": null,
   "metadata": {
    "scrolled": true
   },
   "outputs": [],
   "source": [
    "while True:\n",
    "        \n",
    "    out = cv2.VideoWriter('output.avi', -1, 20.0, (640,480))\n",
    "    \n",
    "    ret, frame = cap.read()\n",
    "    \n",
    "    frame = cv2.cvtColor(frame, cv2.COLOR_BGR2GRAY)\n",
    "    frame_np = np.array(frame)\n",
    "    backup = np.zeros(frame.shape)\n",
    "    \n",
    "    if count < length:\n",
    "        frames[count] = frame_np\n",
    "    else:\n",
    "        backup = frames[count % length]\n",
    "        frames[count % length] = frame_np\n",
    "        \n",
    "    frame_np = frame_np.astype('int32')\n",
    "    backup = backup.astype('int32')\n",
    "    diff = np.abs(frame_np - backup)\n",
    "    diff = diff.astype('uint8')\n",
    "    frame_np = frame_np.astype('uint8')\n",
    "    backup = backup.astype('uint8')\n",
    "    \n",
    "    \n",
    "    out.write(diff)\n",
    "    \n",
    "    cv2.imshow('diff abs', diff)\n",
    "    cv2.imshow('frame', frame_np)\n",
    "    print (white_pixel_counter)\n",
    "    count += 1\n",
    "    key = cv2.waitKey(1)\n",
    "    if key == 27:\n",
    "        break\n",
    "cap.release()\n",
    "out.release()\n",
    "cv2.destroyAllWindows()"
   ]
  },
  {
   "cell_type": "code",
   "execution_count": 9,
   "metadata": {
    "scrolled": true
   },
   "outputs": [],
   "source": [
    "import numpy as np\n",
    "import cv2\n",
    "import copy\n",
    "\n",
    "def findWhitePixels(diff, threshold, height, width):\n",
    "    side1 = 30\n",
    "    side2 = 40\n",
    "    a = np.array([])\n",
    "    for i in range(0, height - side1, side1):\n",
    "        for j in range(0, width - side2, side2):\n",
    "            diff_m = (diff[i:(i + side1), j:(j + side2)]) >= 20\n",
    "            if np.sum(diff_m) > threshold:\n",
    "                a = np.append(a, [i, j, i + side1, j + side2])\n",
    "    return a\n",
    "            \n",
    "\n",
    "cap = cv2.VideoCapture(1)\n",
    "count = 0\n",
    "font = cv2.FONT_HERSHEY_SIMPLEX\n",
    "length = 5\n",
    "samples_number = 5\n",
    "delay = 30 \n",
    "samples = np.array([])\n",
    "calibration = 0\n",
    "square_positions = [None] * delay\n",
    "frames = [None] * length\n",
    "fourcc = cv2.VideoWriter_fourcc(*'XVID')\n",
    "out = cv2.VideoWriter('output15.avi', fourcc, 10.0, (640,480), 0)\n",
    "\n",
    "while True:\n",
    "    ret, frame = cap.read()\n",
    "    height, width, t = frame.shape\n",
    "    if ret==True:\n",
    "        frame = cv2.cvtColor(frame, cv2.COLOR_BGR2GRAY)\n",
    "        frame_np = np.array(frame)\n",
    "        backup = np.zeros(frame.shape)\n",
    "            \n",
    "        if count < length:\n",
    "            frames[count] = frame_np\n",
    "        else:\n",
    "            backup = frames[count % length]\n",
    "            frames[count % length] = frame_np\n",
    "\n",
    "        frame_np = frame_np.astype('int32')\n",
    "        backup = backup.astype('int32')\n",
    "        diff = np.abs(frame_np - backup)\n",
    "        diff = diff.astype('uint8')\n",
    "        frame_np = frame_np.astype('uint8')\n",
    "        backup = backup.astype('uint8')\n",
    "\n",
    "        filled_squares = findWhitePixels(diff, 10, 480, 640)\n",
    "        filled_squares = filled_squares.astype('int32')\n",
    "        highest = 0\n",
    "        for i in range(0, filled_squares.shape[0], 4):\n",
    "            if (filled_squares[i] < filled_squares[highest]) and (filled_squares.shape[0] != 0):\n",
    "                highest = i\n",
    "        if filled_squares.shape[0] != 0:\n",
    "            diff[filled_squares[highest]:filled_squares[highest + 2], filled_squares[highest + 1]:filled_squares[highest + 3]] = 255\n",
    "        \n",
    "        \n",
    "        \n",
    "        if (count >= length) and ((count - length) < samples_number):\n",
    "            samples.append(filles_squares[highest])\n",
    "        if (count - length) == samples_number:\n",
    "            calibration = np.average(samples)\n",
    "                \n",
    "                \n",
    "            \n",
    "        \n",
    "        out.write(diff)\n",
    "        \n",
    "            \n",
    "        cv2.imshow('frame',diff)\n",
    "        count += 1\n",
    "        if cv2.waitKey(1) & 0xFF == ord('q'):\n",
    "            break\n",
    "    else:\n",
    "        break\n",
    "cap.release()\n",
    "\n",
    "out.release()\n",
    "\n",
    "cv2.destroyAllWindows()"
   ]
  },
  {
   "cell_type": "code",
   "execution_count": 7,
   "metadata": {},
   "outputs": [
    {
     "ename": "AttributeError",
     "evalue": "'NoneType' object has no attribute 'shape'",
     "output_type": "error",
     "traceback": [
      "\u001b[0;31m---------------------------------------------------------------------------\u001b[0m",
      "\u001b[0;31mAttributeError\u001b[0m                            Traceback (most recent call last)",
      "\u001b[0;32m<ipython-input-7-a30f9da9ec77>\u001b[0m in \u001b[0;36m<module>\u001b[0;34m\u001b[0m\n\u001b[1;32m      1\u001b[0m \u001b[0mret\u001b[0m\u001b[0;34m,\u001b[0m \u001b[0mframe\u001b[0m \u001b[0;34m=\u001b[0m \u001b[0mcap\u001b[0m\u001b[0;34m.\u001b[0m\u001b[0mread\u001b[0m\u001b[0;34m(\u001b[0m\u001b[0;34m)\u001b[0m\u001b[0;34m\u001b[0m\u001b[0;34m\u001b[0m\u001b[0m\n\u001b[0;32m----> 2\u001b[0;31m \u001b[0mh\u001b[0m\u001b[0;34m,\u001b[0m \u001b[0mw\u001b[0m\u001b[0;34m,\u001b[0m \u001b[0mt\u001b[0m \u001b[0;34m=\u001b[0m \u001b[0mframe\u001b[0m\u001b[0;34m.\u001b[0m\u001b[0mshape\u001b[0m\u001b[0;34m\u001b[0m\u001b[0;34m\u001b[0m\u001b[0m\n\u001b[0m\u001b[1;32m      3\u001b[0m \u001b[0mprint\u001b[0m \u001b[0;34m(\u001b[0m\u001b[0mh\u001b[0m\u001b[0;34m,\u001b[0m \u001b[0mw\u001b[0m\u001b[0;34m)\u001b[0m\u001b[0;34m\u001b[0m\u001b[0;34m\u001b[0m\u001b[0m\n\u001b[1;32m      4\u001b[0m \u001b[0mcap\u001b[0m\u001b[0;34m.\u001b[0m\u001b[0mrelease\u001b[0m\u001b[0;34m(\u001b[0m\u001b[0;34m)\u001b[0m\u001b[0;34m\u001b[0m\u001b[0;34m\u001b[0m\u001b[0m\n",
      "\u001b[0;31mAttributeError\u001b[0m: 'NoneType' object has no attribute 'shape'"
     ]
    }
   ],
   "source": [
    "ret, frame = cap.read()\n",
    "h, w, t = frame.shape\n",
    "print (h, w)\n",
    "cap.release()"
   ]
  },
  {
   "cell_type": "code",
   "execution_count": null,
   "metadata": {},
   "outputs": [],
   "source": [
    "a = np.array([[1, 2, 3],[4, 5, 6]])\n",
    "print (a.shape)"
   ]
  },
  {
   "cell_type": "code",
   "execution_count": null,
   "metadata": {},
   "outputs": [],
   "source": []
  }
 ],
 "metadata": {
  "kernelspec": {
   "display_name": "Python 3",
   "language": "python",
   "name": "python3"
  },
  "language_info": {
   "codemirror_mode": {
    "name": "ipython",
    "version": 3
   },
   "file_extension": ".py",
   "mimetype": "text/x-python",
   "name": "python",
   "nbconvert_exporter": "python",
   "pygments_lexer": "ipython3",
   "version": "3.7.3"
  }
 },
 "nbformat": 4,
 "nbformat_minor": 2
}
